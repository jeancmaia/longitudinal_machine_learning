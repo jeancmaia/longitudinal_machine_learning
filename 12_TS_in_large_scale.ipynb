{
  "cells": [
    {
      "cell_type": "markdown",
      "metadata": {
        "id": "f19tP2DoISNe"
      },
      "source": [
        "Non-stationary Transformers:  https://t.co/HoFxmHoaT2   \n",
        "Probabilistic Time Series Forecasting with Transformers: https://huggingface.co/blog/time-series-transformers   \n",
        "Stock Embeddings for Portfolios: https://t.co/YuK5u8gXHz   \n",
        "Multi-Order Dynamics and Internal Dynamics in Stock Movement: https://t.co/wyuva2EnG3  \n",
        "Tree-Based Local Volatility Surface: https://impa.br/wp-content/uploads/2018/10/projetos_fim_curso_yuri_resende_fonseca.pdf   \n",
        "Random Forests and Boosting for ARCH-like volatility forecasts: https://www.sarem-seitz.com/random-forests-and-boosting-for-arch-like-volatility-forecasts/     \n",
        "Deep Learning For Time Serie Forecasting: Tutorial and Literatue Survey.  https://arxiv.org/pdf/2004.10240.pdf   \n",
        "\n",
        "The Effectiveness of Discretization in Forecasting: An Empirical Study on Neural Time Series Models. https://arxiv.org/abs/2005.10111    \n",
        "https://arxiv.org/abs/1809.04356       \n",
        "https://arxiv.org/pdf/2102.12658.pdf     \n",
        "https://arxiv.org/abs/2012.12485      \n",
        "https://arxiv.org/pdf/2004.10240.pdf    \n"
      ]
    },
    {
      "cell_type": "markdown",
      "metadata": {
        "id": "0wDHwH9NISNr"
      },
      "source": [
        "Modeling time series at a large scale is challenging and resource-intensive. Most of the classical literature is devoted to univariate, either heteroscedasticity or homoscedasticity, and multivariate, where the joint covariance among distinct realizations is a matter of study; however, with unclear limitations about the volume. Deep Learning raises a trailblazing proposal for scaling it up. Thus, in this chapter, we introduce global big models for time series with DL.\n",
        "\n",
        "As with the others, this notebook is a personal summary of excellent papers, the aforementioned ones. If you need clarification or deeper details, please reach out to the bare references.     \n",
        "\n",
        "\n",
        "--------\n",
        "\n",
        "##### The Deep Learning Era\n",
        "\n",
        "Deep Learning is a game-changer in many areas, such as Computer Vision and NLP. By 2006, (Hinton et al) presented to the world a feasible footstep for training Neural Networks with a large number of layers - if, and only if, initial weights are set adequately. Nowadays, DL is a ubiquitous solution, even in Forecast solutions - indeed, owing to its traits, they are a fruitful field for DL."
      ]
    },
    {
      "cell_type": "markdown",
      "metadata": {
        "id": "XT0zWPApISNu"
      },
      "source": [
        "Before dwelling on the literature and candidate models, we shed light on the cornerstone of time series: stationarity. Distribution-varying time series realization makes deep learning models intractable. Therefore, applying pre-processing data for deep model inputs is a standard approach [1]. To cite a few: Z-score normalization, DAIN, RevIN, and the attention mechanism proposed by [1].\n",
        "\n",
        "[1] Non-stationary Transformers: Exploring the Stationarity in Time Series Forecasting. https://arxiv.org/pdf/2205.14415.pdf"
      ]
    },
    {
      "cell_type": "markdown",
      "source": [
        "Read dataset for analysis."
      ],
      "metadata": {
        "id": "NRfcAAlJUvrs"
      }
    },
    {
      "cell_type": "code",
      "execution_count": null,
      "metadata": {
        "id": "hwvLA6K7ISNw"
      },
      "outputs": [],
      "source": [
        "from sklearn.preprocessing import StandardScaler\n",
        "from scipy import stats\n",
        "\n",
        "import pandas as pd\n",
        "import seaborn as sns\n",
        "import matplotlib.pyplot as plt\n",
        "\n",
        "mglu = pd.read_csv('MGLU3_historical_data.csv')\n",
        "\n",
        "mglu['Date'] = pd.to_datetime(mglu['Date'])"
      ]
    },
    {
      "cell_type": "code",
      "source": [
        "sns.lineplot('Date', 'Price', data=mglu)"
      ],
      "metadata": {
        "colab": {
          "base_uri": "https://localhost:8080/",
          "height": 351
        },
        "id": "7dEmYCBMKIGo",
        "outputId": "68005217-6f15-43a2-baa8-c9c1cd452719"
      },
      "execution_count": null,
      "outputs": [
        {
          "output_type": "stream",
          "name": "stderr",
          "text": [
            "/usr/local/lib/python3.8/dist-packages/seaborn/_decorators.py:36: FutureWarning: Pass the following variables as keyword args: x, y. From version 0.12, the only valid positional argument will be `data`, and passing other arguments without an explicit keyword will result in an error or misinterpretation.\n",
            "  warnings.warn(\n"
          ]
        },
        {
          "output_type": "execute_result",
          "data": {
            "text/plain": [
              "<matplotlib.axes._subplots.AxesSubplot at 0x7f50eb8163a0>"
            ]
          },
          "metadata": {},
          "execution_count": 2
        },
        {
          "output_type": "display_data",
          "data": {
            "text/plain": [
              "<Figure size 432x288 with 1 Axes>"
            ],
            "image/png": "[encoded data removed]"
          },
          "metadata": {
            "needs_background": "light"
          }
        }
      ]
    },
    {
      "cell_type": "markdown",
      "metadata": {
        "id": "Bktq09AZISNy"
      },
      "source": [
        "To develop intuition on stationarity treatment, we can leverage RevIN official implementation of RevIN is available on GitHub: https://github.com/ts-kim/RevIN"
      ]
    },
    {
      "cell_type": "code",
      "execution_count": null,
      "metadata": {
        "id": "TW_dzD1bISNz"
      },
      "outputs": [],
      "source": [
        "import torch\n",
        "import torch.nn as nn\n",
        "\n",
        "class RevIN(nn.Module):\n",
        "    def __init__(self, num_features: int, eps=1e-5, affine=True):\n",
        "        \"\"\"\n",
        "        :param num_features: the number of features or channels\n",
        "        :param eps: a value added for numerical stability\n",
        "        :param affine: if True, RevIN has learnable affine parameters\n",
        "        \"\"\"\n",
        "        super(RevIN, self).__init__()\n",
        "        self.num_features = num_features\n",
        "        self.eps = eps\n",
        "        self.affine = affine\n",
        "        if self.affine:\n",
        "            self._init_params()\n",
        "\n",
        "    def forward(self, x, mode:str):\n",
        "        if mode == 'norm':\n",
        "            self._get_statistics(x)\n",
        "            x = self._normalize(x)\n",
        "        elif mode == 'denorm':\n",
        "            x = self._denormalize(x)\n",
        "        else: raise NotImplementedError\n",
        "        return x\n",
        "\n",
        "    def _init_params(self):\n",
        "        # initialize RevIN params: (C,)\n",
        "        self.affine_weight = nn.Parameter(torch.ones(self.num_features))\n",
        "        self.affine_bias = nn.Parameter(torch.zeros(self.num_features))\n",
        "\n",
        "    def _get_statistics(self, x):\n",
        "        dim2reduce = tuple(range(1, x.ndim-1))\n",
        "        self.mean = torch.mean(x, dim=dim2reduce, keepdim=True).detach()\n",
        "        self.stdev = torch.sqrt(torch.var(x, dim=dim2reduce, keepdim=True, unbiased=False) + self.eps).detach()\n",
        "\n",
        "    def _normalize(self, x):\n",
        "        x = x - self.mean\n",
        "        x = x / self.stdev\n",
        "        if self.affine:\n",
        "            x = x * self.affine_weight\n",
        "            x = x + self.affine_bias\n",
        "        return x\n",
        "\n",
        "    def _denormalize(self, x):\n",
        "        if self.affine:\n",
        "            x = x - self.affine_bias\n",
        "            x = x / (self.affine_weight + self.eps*self.eps)\n",
        "        x = x * self.stdev\n",
        "        x = x + self.mean\n",
        "        return x\n"
      ]
    },
    {
      "cell_type": "code",
      "source": [
        "x_in = torch.tensor(mglu['Price'].values)\n",
        "revin_layer = RevIN(len(x_in))\n",
        "x_in = revin_layer(x_in, 'norm')"
      ],
      "metadata": {
        "id": "C9tDFJbpOv-5"
      },
      "execution_count": null,
      "outputs": []
    },
    {
      "cell_type": "code",
      "source": [
        "mglu['Price_Norm'] = x_in.tolist()"
      ],
      "metadata": {
        "id": "szyMPLxpS7JN"
      },
      "execution_count": null,
      "outputs": []
    },
    {
      "cell_type": "code",
      "source": [
        "sns.lineplot('Date', 'Price_Norm', data=mglu)"
      ],
      "metadata": {
        "colab": {
          "base_uri": "https://localhost:8080/",
          "height": 351
        },
        "id": "7gETcDY3TW0W",
        "outputId": "b287b334-7e86-4017-c626-0485d1b966d0"
      },
      "execution_count": null,
      "outputs": [
        {
          "output_type": "stream",
          "name": "stderr",
          "text": [
            "/usr/local/lib/python3.8/dist-packages/seaborn/_decorators.py:36: FutureWarning: Pass the following variables as keyword args: x, y. From version 0.12, the only valid positional argument will be `data`, and passing other arguments without an explicit keyword will result in an error or misinterpretation.\n",
            "  warnings.warn(\n"
          ]
        },
        {
          "output_type": "execute_result",
          "data": {
            "text/plain": [
              "<matplotlib.axes._subplots.AxesSubplot at 0x7f50eb7284f0>"
            ]
          },
          "metadata": {},
          "execution_count": 6
        },
        {
          "output_type": "display_data",
          "data": {
            "text/plain": [
              "<Figure size 432x288 with 1 Axes>"
            ],
            "image/png": "[encoded data removed]"
          },
          "metadata": {
            "needs_background": "light"
          }
        }
      ]
    },
    {
      "cell_type": "markdown",
      "source": [
        "#### Deep candidate models   \n",
        "\n",
        "\n",
        "Tailoring architecture is one of the foremost traits of Deep Neural Networks. Usual proposals, such as Convolutional NN, and Recurrent NN, are suitable picks for specific problems. Regarding time-series modeling, RNN-based and Seq-2-Seq architectures are canonical picks due to their ability to relate a current observation, at time $t$, upon its past realizations. Contemporary architectures, such as Transformers and GAN, have gained attention(joke alert) as feasible solutions, either. Before move on, we recap those architectures.    \n",
        "\n",
        "\n",
        "\n",
        "* RNN.\n",
        "Recurrent NN is a kind of NN that fit and predict wired on hidden states and past observations in an autoregressive fashion. As vanishing gradient is a shortcoming of big RNN, researchers proposed the LSTM.\n",
        "\n",
        "https://stanford.edu/~shervine/teaching/cs-230/cheatsheet-recurrent-neural-networks    \n",
        "https://www.sciencedirect.com/topics/computer-science/recurrent-neural-network    \n",
        "https://d2l.ai/chapter_recurrent-modern/lstm.html    \n",
        "\n",
        "* Seq2Seq.   \n",
        "The S2S architecture blends two NN in tandem, on a enconding-decoding shape. The decoding shape is predetermiend, and its loss is computed against the actual values."
      ],
      "metadata": {
        "id": "RMgTs7BKVPh_"
      }
    },
    {
      "cell_type": "markdown",
      "source": [
        "#### Literature review  \n",
        "\n",
        "\n",
        "In this section, we underscore some great candidate/possible models, drilled down by `probabilistic forecast`, `point forecast`, `global-local models`, `intermittent time series`. As it follows, We summarize every specific domain application wiil be properly summarized.    \n",
        "\n",
        "`Point forecast` models output only one single value; the best output to the actual realization. \n",
        "\n",
        "`Probability forecasts` are extensions for `Point forecast`, whose point forecast are parameters of a `probability model`. A non-parametric version of it returns quantils of a unknown probability model, a.k.a `quantile forecast`.\n",
        "\n",
        "`Global-local`. `Local` Models learn free parameters of a specific time-series. Classical remarkable local time-series are ARIMA, ETS. Whereas in `Global` models, free parameters are learned jointly on every series. Global-Local conjugate the best of both worlds. Statistical Mixed models stand out as a great solution, DNN has raised as trailblazing proposals for G-L models. \n",
        "\n",
        "`Intermittent Series` epitomises time-series with empty values, or zeros, for a large volume of realizations throughout time. This trait inflicts big challenges on classical time-series modeling.\n",
        "\n",
        "\n",
        "-----\n",
        "##### Probabilistc Forecast  \n",
        "1. One-step forecast\n",
        "\n",
        "  * DeepAR model is a global univariate that can learn multivariate distribution.   \n",
        "  * TimeGrad is a RNN using LSTM.\n",
        "\n",
        "2. Multi-step forecast.\n",
        "\n",
        "  * MQRNN/MQCNN are a seq2seq architecture for multi-step forecast, which produces multi-predictions at one. \n",
        "  * \"Deep generative quantile-copula models for probabilistic forecasting\" extended the MQCNN model with a generative quantile copula. This model learns the conditional quantile function that maps the quantile index, which is a uniform random variable conditioned on the\n",
        "covariates, to the target.   \n",
        "  * DeepTCN, another seq2seq model where the encoder is the dilated causal convolution with residual blocks, and the decoder is simply an MLP with residual connections.   \n",
        "  *  Learning quantile functions without quantile crossing for distribution-free time series forecasting\" propose the incremental quantile functions (IQF), a flexible and efficient distribution-free quantile estimation framework that resolves quantile crossing with a simple NN layer.\n",
        "\n",
        "\n",
        "-----\n",
        "##### Point Forecast\n",
        "1. One-step forecast.\n",
        "  * LSTNet.   \n",
        "  * DeepAr.\n",
        "\n",
        "2. Multi-step forecast.\n",
        "  * N-BEATS.   \n",
        "  * Stacked autoencoder.   \n",
        "  * Diffusion Convolutional Recurrent NN.   \n",
        "  * Position-based content attention for time series forecasting with sequence-to-sequence RNNs proposed a content attention mechanism that seats on top of any seq2seq RNN.   \n",
        "  * Enhancing the locality and breaking the memory bottleneck of transformer on time series forecasting. introduce two modifications to the Transformer architecture to improve its performance for forecasting.   \n",
        "  * Temporal Fusion Transformer (TFT).    \n",
        "  * MQ-Transformer.   \n",
        "  * Informer, a computationally efficient Transformer architecture,\n",
        "that specifically targets applications with long forecast horizons.\n",
        "\n",
        "\n",
        "-----\n",
        "##### Global-local      \n",
        "* Deep Factors.   \n",
        "* Deep Global Local Forecaster.   \n",
        "\n",
        "\n",
        "-----\n",
        "##### Intermittent Time Series      \n",
        "* RNN architecture with a negative binomial likelihood to handle intermittent demand.    \n",
        "* Joint modeling of event sequence and time series with attentional twin recurrent neural networks.      \n",
        "\n"
      ],
      "metadata": {
        "id": "hnB9n-lrERgU"
      }
    },
    {
      "cell_type": "markdown",
      "source": [
        "GluonTS is a tremendous Python library for Deep Learning Time Series. In two distinct moments, I'll attempt training local and global models. "
      ],
      "metadata": {
        "id": "wstrrO7xosjd"
      }
    },
    {
      "cell_type": "code",
      "source": [
        "!pip install gluonts mxnet"
      ],
      "metadata": {
        "colab": {
          "base_uri": "https://localhost:8080/"
        },
        "id": "t1ZH2YRQ0lk_",
        "outputId": "08721feb-a345-40da-aed7-3a5919f276fe"
      },
      "execution_count": 1,
      "outputs": [
        {
          "output_type": "stream",
          "name": "stdout",
          "text": [
            "Looking in indexes: https://pypi.org/simple, https://us-python.pkg.dev/colab-wheels/public/simple/\n",
            "Collecting gluonts\n",
            "  Downloading gluonts-0.12.3-py3-none-any.whl (1.2 MB)\n",
            "\u001b[2K     \u001b[90m━━━━━━━━━━━━━━━━━━━━━━━━━━━━━━━━━━━━━━━━\u001b[0m \u001b[32m1.2/1.2 MB\u001b[0m \u001b[31m36.2 MB/s\u001b[0m eta \u001b[36m0:00:00\u001b[0m\n",
            "\u001b[?25hCollecting mxnet\n",
            "  Downloading mxnet-1.9.1-py3-none-manylinux2014_x86_64.whl (49.1 MB)\n",
            "\u001b[2K     \u001b[90m━━━━━━━━━━━━━━━━━━━━━━━━━━━━━━━━━━━━━━━━\u001b[0m \u001b[32m49.1/49.1 MB\u001b[0m \u001b[31m14.0 MB/s\u001b[0m eta \u001b[36m0:00:00\u001b[0m\n",
            "\u001b[?25hRequirement already satisfied: pydantic~=1.7 in /usr/local/lib/python3.8/dist-packages (from gluonts) (1.10.4)\n",
            "Requirement already satisfied: tqdm~=4.23 in /usr/local/lib/python3.8/dist-packages (from gluonts) (4.64.1)\n",
            "Requirement already satisfied: pandas~=1.0 in /usr/local/lib/python3.8/dist-packages (from gluonts) (1.3.5)\n",
            "Requirement already satisfied: numpy~=1.16 in /usr/local/lib/python3.8/dist-packages (from gluonts) (1.21.6)\n",
            "Requirement already satisfied: typing-extensions~=4.0 in /usr/local/lib/python3.8/dist-packages (from gluonts) (4.5.0)\n",
            "Requirement already satisfied: toolz~=0.10 in /usr/local/lib/python3.8/dist-packages (from gluonts) (0.12.0)\n",
            "Collecting graphviz<0.9.0,>=0.8.1\n",
            "  Downloading graphviz-0.8.4-py2.py3-none-any.whl (16 kB)\n",
            "Requirement already satisfied: requests<3,>=2.20.0 in /usr/local/lib/python3.8/dist-packages (from mxnet) (2.25.1)\n",
            "Requirement already satisfied: pytz>=2017.3 in /usr/local/lib/python3.8/dist-packages (from pandas~=1.0->gluonts) (2022.7.1)\n",
            "Requirement already satisfied: python-dateutil>=2.7.3 in /usr/local/lib/python3.8/dist-packages (from pandas~=1.0->gluonts) (2.8.2)\n",
            "Requirement already satisfied: urllib3<1.27,>=1.21.1 in /usr/local/lib/python3.8/dist-packages (from requests<3,>=2.20.0->mxnet) (1.24.3)\n",
            "Requirement already satisfied: idna<3,>=2.5 in /usr/local/lib/python3.8/dist-packages (from requests<3,>=2.20.0->mxnet) (2.10)\n",
            "Requirement already satisfied: chardet<5,>=3.0.2 in /usr/local/lib/python3.8/dist-packages (from requests<3,>=2.20.0->mxnet) (4.0.0)\n",
            "Requirement already satisfied: certifi>=2017.4.17 in /usr/local/lib/python3.8/dist-packages (from requests<3,>=2.20.0->mxnet) (2022.12.7)\n",
            "Requirement already satisfied: six>=1.5 in /usr/local/lib/python3.8/dist-packages (from python-dateutil>=2.7.3->pandas~=1.0->gluonts) (1.15.0)\n",
            "Installing collected packages: graphviz, mxnet, gluonts\n",
            "  Attempting uninstall: graphviz\n",
            "    Found existing installation: graphviz 0.10.1\n",
            "    Uninstalling graphviz-0.10.1:\n",
            "      Successfully uninstalled graphviz-0.10.1\n",
            "Successfully installed gluonts-0.12.3 graphviz-0.8.4 mxnet-1.9.1\n"
          ]
        }
      ]
    },
    {
      "cell_type": "code",
      "source": [
        "# %#matplotlib inline\n",
        "import mxnet as mx\n",
        "from mxnet import gluon\n",
        "import numpy as np\n",
        "import pandas as pd\n",
        "import matplotlib.pyplot as plt\n",
        "import json\n",
        "\n",
        "from gluonts.dataset.repository.datasets import get_dataset, dataset_recipes\n",
        "from gluonts.dataset.util import to_pandas"
      ],
      "metadata": {
        "colab": {
          "base_uri": "https://localhost:8080/"
        },
        "id": "Ci-ppU8X15XJ",
        "outputId": "86ba12bc-4929-4b41-ef21-7621ab38503c"
      },
      "execution_count": 2,
      "outputs": [
        {
          "output_type": "stream",
          "name": "stderr",
          "text": [
            "/usr/local/lib/python3.8/dist-packages/gluonts/json.py:101: UserWarning: Using `json`-module for json-handling. Consider installing one of `orjson`, `ujson` to speed up serialization and deserialization.\n",
            "  warnings.warn(\n"
          ]
        }
      ]
    },
    {
      "cell_type": "code",
      "source": [
        "print(f\"Available datasets: {list(dataset_recipes.keys())}\")"
      ],
      "metadata": {
        "colab": {
          "base_uri": "https://localhost:8080/"
        },
        "id": "iHIcrIFA4lGA",
        "outputId": "e8b5e03f-024f-4b7c-c725-0d2ab7435718"
      },
      "execution_count": 3,
      "outputs": [
        {
          "output_type": "stream",
          "name": "stdout",
          "text": [
            "Available datasets: ['constant', 'exchange_rate', 'solar-energy', 'electricity', 'traffic', 'exchange_rate_nips', 'electricity_nips', 'traffic_nips', 'solar_nips', 'wiki-rolling_nips', 'taxi_30min', 'kaggle_web_traffic_with_missing', 'kaggle_web_traffic_without_missing', 'kaggle_web_traffic_weekly', 'm1_yearly', 'm1_quarterly', 'm1_monthly', 'nn5_daily_with_missing', 'nn5_daily_without_missing', 'nn5_weekly', 'tourism_monthly', 'tourism_quarterly', 'tourism_yearly', 'cif_2016', 'london_smart_meters_without_missing', 'wind_farms_without_missing', 'car_parts_without_missing', 'dominick', 'fred_md', 'pedestrian_counts', 'hospital', 'covid_deaths', 'kdd_cup_2018_without_missing', 'weather', 'm3_monthly', 'm3_quarterly', 'm3_yearly', 'm3_other', 'm4_hourly', 'm4_daily', 'm4_weekly', 'm4_monthly', 'm4_quarterly', 'm4_yearly', 'm5', 'uber_tlc_daily', 'uber_tlc_hourly', 'airpassengers']\n"
          ]
        }
      ]
    },
    {
      "cell_type": "code",
      "source": [
        "meta, train_ds, test_ds = get_dataset(\"electricity\")"
      ],
      "metadata": {
        "id": "u6iF-wpr4oBO"
      },
      "execution_count": 5,
      "outputs": []
    },
    {
      "cell_type": "code",
      "source": [
        "next(iter(train_ds))"
      ],
      "metadata": {
        "colab": {
          "base_uri": "https://localhost:8080/"
        },
        "id": "0rtwe_6xoZjs",
        "outputId": "ec9453ae-1598-4e66-84b3-19607bee9ef2"
      },
      "execution_count": 9,
      "outputs": [
        {
          "output_type": "execute_result",
          "data": {
            "text/plain": [
              "{'target': array([14., 18., 21., ...,  6.,  9.,  7.], dtype=float32),\n",
              " 'start': Period('2012-01-01 00:00', 'H'),\n",
              " 'feat_static_cat': array([0], dtype=int32),\n",
              " 'item_id': 0}"
            ]
          },
          "metadata": {},
          "execution_count": 9
        }
      ]
    },
    {
      "cell_type": "code",
      "source": [
        "entry_train = next(iter(train_ds))\n",
        "train_series = to_pandas(entry_train)\n",
        "train_series.plot()\n",
        "plt.grid(which=\"both\")\n",
        "plt.legend([\"train series\"], loc=\"upper left\")\n",
        "plt.show()"
      ],
      "metadata": {
        "colab": {
          "base_uri": "https://localhost:8080/",
          "height": 277
        },
        "id": "r2wW-V-p4tfz",
        "outputId": "a40541a0-8cbc-4498-c777-ca3a0b2f730f"
      },
      "execution_count": 10,
      "outputs": [
        {
          "output_type": "display_data",
          "data": {
            "text/plain": [
              "<Figure size 432x288 with 1 Axes>"
            ],
            "image/png": "[encoded data removed]"
          },
          "metadata": {
            "needs_background": "light"
          }
        }
      ]
    },
    {
      "cell_type": "code",
      "source": [
        "entry_test = next(iter(test_ds))\n",
        "test_series = to_pandas(entry_test)\n",
        "test_series.plot()\n",
        "plt.axvline(train_series.index[-1], color=\"r\")  # end of train dataset\n",
        "plt.grid(which=\"both\")\n",
        "plt.legend([\"test series\", \"end of train series\"], loc=\"upper left\")\n",
        "plt.show()"
      ],
      "metadata": {
        "colab": {
          "base_uri": "https://localhost:8080/",
          "height": 277
        },
        "id": "86VjMei04uLT",
        "outputId": "04b30b97-7e0b-4261-c640-c054317f3fdb"
      },
      "execution_count": 11,
      "outputs": [
        {
          "output_type": "display_data",
          "data": {
            "text/plain": [
              "<Figure size 432x288 with 1 Axes>"
            ],
            "image/png": "[encoded data removed]"
          },
          "metadata": {
            "needs_background": "light"
          }
        }
      ]
    },
    {
      "cell_type": "code",
      "source": [
        "meta.prediction_length"
      ],
      "metadata": {
        "colab": {
          "base_uri": "https://localhost:8080/"
        },
        "id": "9CyR9xQg45i-",
        "outputId": "c8eeba38-bb81-4f02-a220-1d6748f9b900"
      },
      "execution_count": 31,
      "outputs": [
        {
          "output_type": "execute_result",
          "data": {
            "text/plain": [
              "24"
            ]
          },
          "metadata": {},
          "execution_count": 31
        }
      ]
    },
    {
      "cell_type": "code",
      "source": [
        "print(\n",
        "    f\"Length of forecasting window in test dataset: {len(test_series) - len(train_series)}\"\n",
        ")\n",
        "print(f\"Recommended prediction horizon: {meta.prediction_length}\")\n",
        "print(f\"Frequency of the time series: {meta.freq}\")"
      ],
      "metadata": {
        "colab": {
          "base_uri": "https://localhost:8080/"
        },
        "id": "4UQzKffXESMH",
        "outputId": "3b342d3d-713e-4093-c6b6-fd9e7308da48"
      },
      "execution_count": 12,
      "outputs": [
        {
          "output_type": "stream",
          "name": "stdout",
          "text": [
            "Length of forecasting window in test dataset: 24\n",
            "Recommended prediction horizon: 24\n",
            "Frequency of the time series: 1H\n"
          ]
        }
      ]
    },
    {
      "cell_type": "code",
      "source": [
        "from gluonts.mx import DeepAREstimator, Trainer\n",
        "\n",
        "estimator = DeepAREstimator(\n",
        "    freq=meta.freq,\n",
        "    prediction_length=meta.prediction_length,\n",
        "    context_length=100,\n",
        "    trainer=Trainer(ctx=\"cpu\", epochs=5, learning_rate=1e-3, num_batches_per_epoch=100),\n",
        ")"
      ],
      "metadata": {
        "id": "NaXUlo9_Eru1"
      },
      "execution_count": 15,
      "outputs": []
    },
    {
      "cell_type": "code",
      "source": [
        "predictor = estimator.train(train_ds)"
      ],
      "metadata": {
        "colab": {
          "base_uri": "https://localhost:8080/"
        },
        "id": "OwrPjfsaEzP5",
        "outputId": "3f0827af-e82e-4b2a-fdc6-08ae5f92c3ef"
      },
      "execution_count": 59,
      "outputs": [
        {
          "output_type": "stream",
          "name": "stderr",
          "text": [
            "100%|██████████| 100/100 [00:53<00:00,  1.88it/s, epoch=1/5, avg_epoch_loss=6.31]\n",
            "100%|██████████| 100/100 [00:52<00:00,  1.89it/s, epoch=2/5, avg_epoch_loss=5.68]\n",
            "100%|██████████| 100/100 [00:52<00:00,  1.92it/s, epoch=3/5, avg_epoch_loss=5.49]\n",
            "100%|██████████| 100/100 [00:53<00:00,  1.87it/s, epoch=4/5, avg_epoch_loss=5.44]\n",
            "100%|██████████| 100/100 [00:51<00:00,  1.94it/s, epoch=5/5, avg_epoch_loss=5.34]\n"
          ]
        }
      ]
    },
    {
      "cell_type": "code",
      "source": [
        "from gluonts.evaluation import Evaluator\n",
        "from gluonts.evaluation.backtest import backtest_metrics\n",
        "\n",
        "evaluator = Evaluator(quantiles=(0.1, 0.5, 0.9))\n",
        "\n",
        "agg_metrics, item_metrics = backtest_metrics(\n",
        "    test_dataset=test_ds,\n",
        "    predictor=predictor,\n",
        "    evaluator=evaluator\n",
        ")"
      ],
      "metadata": {
        "colab": {
          "base_uri": "https://localhost:8080/"
        },
        "id": "wFhHFEGUFiGz",
        "outputId": "f3aa61cf-1aa5-4629-d4fb-9d2a4e62ab69"
      },
      "execution_count": 23,
      "outputs": [
        {
          "output_type": "stream",
          "name": "stderr",
          "text": [
            "100%|██████████| 2247/2247 [00:12<00:00, 180.38it/s]\n",
            "Running evaluation: 100%|██████████| 2247/2247 [01:57<00:00, 19.07it/s]\n",
            "/usr/local/lib/python3.8/dist-packages/pandas/core/dtypes/cast.py:1201: UserWarning: Warning: converting a masked element to nan.\n",
            "  return arr.astype(dtype, copy=True)\n"
          ]
        }
      ]
    },
    {
      "cell_type": "code",
      "source": [
        "agg_metrics"
      ],
      "metadata": {
        "id": "2NKHyHAtJfep",
        "colab": {
          "base_uri": "https://localhost:8080/"
        },
        "outputId": "da142657-bc9f-46da-a2dc-7667732536b1"
      },
      "execution_count": 24,
      "outputs": [
        {
          "output_type": "execute_result",
          "data": {
            "text/plain": [
              "{'MSE': 3175913.722327275,\n",
              " 'abs_error': 9367631.754647255,\n",
              " 'abs_target_sum': 128632956.0,\n",
              " 'abs_target_mean': 2385.272140631954,\n",
              " 'seasonal_error': 189.49338196116761,\n",
              " 'MASE': 0.8477963400481334,\n",
              " 'MAPE': 0.11189441424005425,\n",
              " 'sMAPE': 0.11534020843772096,\n",
              " 'MSIS': 7.007853352141448,\n",
              " 'QuantileLoss[0.1]': 3762416.7409806335,\n",
              " 'Coverage[0.1]': 0.14348761311378133,\n",
              " 'QuantileLoss[0.5]': 9367631.760589771,\n",
              " 'Coverage[0.5]': 0.6960762498145675,\n",
              " 'QuantileLoss[0.9]': 6829557.5293075945,\n",
              " 'Coverage[0.9]': 0.9313900014834593,\n",
              " 'RMSE': 1782.1093463441784,\n",
              " 'NRMSE': 0.7471304074645447,\n",
              " 'ND': 0.07282450816606637,\n",
              " 'wQuantileLoss[0.1]': 0.029249244190428413,\n",
              " 'wQuantileLoss[0.5]': 0.07282450821226383,\n",
              " 'wQuantileLoss[0.9]': 0.053093373126771606,\n",
              " 'mean_absolute_QuantileLoss': 6653202.010292667,\n",
              " 'mean_wQuantileLoss': 0.05172237517648795,\n",
              " 'MAE_Coverage': 0.43139000148345924,\n",
              " 'OWA': nan}"
            ]
          },
          "metadata": {},
          "execution_count": 24
        }
      ]
    },
    {
      "cell_type": "code",
      "source": [
        "from gluonts.evaluation import make_evaluation_predictions"
      ],
      "metadata": {
        "id": "LbrFacX0JFvb"
      },
      "execution_count": 54,
      "outputs": []
    },
    {
      "cell_type": "code",
      "source": [
        "forecast_it, ts_it = make_evaluation_predictions(\n",
        "    dataset=test_ds,  # test dataset\n",
        "    predictor=predictor,  # predictor\n",
        "    num_samples=100,  # number of sample paths we want for evaluation\n",
        ")"
      ],
      "metadata": {
        "id": "4dlU224PONoX"
      },
      "execution_count": 60,
      "outputs": []
    },
    {
      "cell_type": "code",
      "source": [
        "%%time\n",
        "\n",
        "forecasts = list(forecast_it)\n",
        "tss = list(ts_it)"
      ],
      "metadata": {
        "colab": {
          "base_uri": "https://localhost:8080/"
        },
        "id": "mzZwQCUsLkHF",
        "outputId": "98de0ec8-f594-41a0-cf23-2875db97c69d"
      },
      "execution_count": 61,
      "outputs": [
        {
          "output_type": "stream",
          "name": "stdout",
          "text": [
            "CPU times: user 2min 14s, sys: 5.45 s, total: 2min 19s\n",
            "Wall time: 2min 2s\n"
          ]
        }
      ]
    },
    {
      "cell_type": "code",
      "source": [
        "forecast_entry = forecasts[0]\n",
        "\n",
        "print(f\"Number of sample paths: {forecast_entry.num_samples}\")\n",
        "print(f\"Dimension of samples: {forecast_entry.samples.shape}\")\n",
        "print(f\"Start date of the forecast window: {forecast_entry.start_date}\")\n",
        "print(f\"Frequency of the time series: {forecast_entry.freq}\")"
      ],
      "metadata": {
        "colab": {
          "base_uri": "https://localhost:8080/"
        },
        "id": "Jfe4Vq17N2m-",
        "outputId": "283e6e25-876f-4407-edf4-bda85f71919c"
      },
      "execution_count": 63,
      "outputs": [
        {
          "output_type": "stream",
          "name": "stdout",
          "text": [
            "Number of sample paths: 100\n",
            "Dimension of samples: (100, 24)\n",
            "Start date of the forecast window: 2014-05-26 20:00\n",
            "Frequency of the time series: <Hour>\n"
          ]
        }
      ]
    },
    {
      "cell_type": "code",
      "source": [
        "print(f\"Mean of the future window:\\n {forecast_entry.mean}\")\n",
        "print(f\"0.5-quantile (median) of the future window:\\n {forecast_entry.quantile(0.5)}\")"
      ],
      "metadata": {
        "colab": {
          "base_uri": "https://localhost:8080/"
        },
        "id": "csjf6TL5NcpE",
        "outputId": "bd79dae8-dca9-4744-fb20-cef5551d50ca"
      },
      "execution_count": 64,
      "outputs": [
        {
          "output_type": "stream",
          "name": "stdout",
          "text": [
            "Mean of the future window:\n",
            " [ 9.155737   13.032604    9.290893   12.256549   10.159325   15.086522\n",
            " 15.908233   16.148623   18.688017   15.673288   17.083403   13.145193\n",
            " 24.637833   19.07144     8.877104   13.720532   14.381177   12.17157\n",
            "  6.1696253   7.754944   -0.8059538   0.9282933  -0.16513032 -0.5444015 ]\n",
            "0.5-quantile (median) of the future window:\n",
            " [ 9.250178   12.717841    9.015887   12.487144    9.512491   15.107957\n",
            " 15.966493   16.543777   18.482405   17.264082   16.849606   12.670554\n",
            " 23.790648   17.853964    9.35412    13.809608   14.372154   12.677524\n",
            "  6.0235915   6.9708185  -0.81890774  0.8928909   0.19082673 -1.1328983 ]\n"
          ]
        }
      ]
    },
    {
      "cell_type": "code",
      "source": [
        "def plot_prob_forecasts(ts_entry, forecast_entry):\n",
        "    plot_length = 150\n",
        "    prediction_intervals = (50.0, 90.0)\n",
        "    legend = [\"observations\", \"median prediction\"] + [\n",
        "        f\"{k}% prediction interval\" for k in prediction_intervals\n",
        "    ][::-1]\n",
        "\n",
        "    fig, ax = plt.subplots(1, 1, figsize=(10, 7))\n",
        "    ts_entry[-plot_length:].plot(ax=ax)  # plot the time series\n",
        "    forecast_entry.plot(prediction_intervals=prediction_intervals, color=\"g\")\n",
        "    plt.grid(which=\"both\")\n",
        "    plt.legend(legend, loc=\"upper left\")\n",
        "    plt.show()\n",
        "  \n",
        "ts_entry = tss[0]"
      ],
      "metadata": {
        "id": "J8nxxf6AS5sj"
      },
      "execution_count": 69,
      "outputs": []
    },
    {
      "cell_type": "code",
      "source": [
        "plot_prob_forecasts(ts_entry, forecast_entry)"
      ],
      "metadata": {
        "colab": {
          "base_uri": "https://localhost:8080/",
          "height": 450
        },
        "id": "5id-oEBiS86M",
        "outputId": "52ac98ca-e1a0-47cc-efc5-3403ee947fd4"
      },
      "execution_count": 70,
      "outputs": [
        {
          "output_type": "display_data",
          "data": {
            "text/plain": [
              "<Figure size 720x504 with 1 Axes>"
            ],
            "image/png": "[encoded data removed]"
          },
          "metadata": {
            "needs_background": "light"
          }
        }
      ]
    },
    {
      "cell_type": "code",
      "source": [],
      "metadata": {
        "id": "9oOonfinS-hk"
      },
      "execution_count": null,
      "outputs": []
    }
  ],
  "metadata": {
    "kernelspec": {
      "display_name": "Python 3.9.5 ('venv': venv)",
      "language": "python",
      "name": "python3"
    },
    "language_info": {
      "codemirror_mode": {
        "name": "ipython",
        "version": 3
      },
      "file_extension": ".py",
      "mimetype": "text/x-python",
      "name": "python",
      "nbconvert_exporter": "python",
      "pygments_lexer": "ipython3",
      "version": "3.9.5"
    },
    "orig_nbformat": 4,
    "vscode": {
      "interpreter": {
        "hash": "08c0719674ff094177ff71caf104755cc919f8ecb4d7e92f9d6bcb4bedf87c7c"
      }
    },
    "colab": {
      "provenance": []
    }
  },
  "nbformat": 4,
  "nbformat_minor": 0
}