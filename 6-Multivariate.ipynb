{
 "cells": [
  {
   "cell_type": "markdown",
   "metadata": {},
   "source": [
    "Till now, we have studied time series analysis from a univariate perspective, where the past realizations explain the current value at displacement `t`. The model `Vector Autoregression` proposes the cross-variable dynamics among N different equations. To motivate, the classical homoscedasticity ordinary linear regression epitomises the new time-series proposal.      \n",
    "\n",
    "\n",
    "A simple linear regression is specified as it follows:   \n",
    "\n",
    "$$y_t = \\beta_0 + \\beta_1 x_t + \\epsilon_t, \\quad \\epsilon_t \\sim WN(0, \\sigma^2), $$\n",
    "\n",
    "where $x_t$ is known as the explanatory variable for $y_t$, the outcome. OLS is a model for correlation, not causation. Armed with that, it time to postulate the `Vector Autoregressions`. \n",
    "\n",
    "\n",
    "------------------\n",
    "`VAR`\n",
    "\n",
    "In a model VAR(p), we regress the endogenous variable on p displacements of itself, and p lags of every other variable - with trends, seasonals shall be included. Assuming a two-variable VAR(1), we have:\n",
    "\n",
    "$$ y_{1,t} = \\phi_{11} y_{1,t-1} + \\phi_{12} y_{2,t-1} + \\epsilon_{1,t}$$\n",
    "$$ y_{2,t} = \\phi_{21} y_{1,t-1} + \\phi_{22} y_{2,t-1} + \\epsilon_{2,t}.$$\n",
    "\n",
    "\n",
    "One trailblazing element about `VAR` is the shocks can be correlated. The disturbance variance-covariance is:\n",
    "\n",
    "$$ \\epsilon_{1,t} \\sim WN(0, \\sigma_1^2) $$\n",
    "$$ \\epsilon_{2,t} \\sim WN(0, \\sigma_2^2) $$\n",
    "$$ cov(\\epsilon_{1,t}, \\epsilon_{2,t}) = \\sigma_{12}. $$\n",
    "\n"
   ]
  },
  {
   "cell_type": "markdown",
   "metadata": {},
   "source": [
    "The foremost Python library for statistical learning is the `statsmodels` has an API for VAR learning. Lets check this out."
   ]
  },
  {
   "cell_type": "code",
   "execution_count": 2,
   "metadata": {},
   "outputs": [],
   "source": [
    "import pandas as pd\n",
    "\n",
    "from statsmodels.tsa.api import VAR\n",
    "\n",
    "data = pd.read_csv('DailyDelhiClimateData/DailyDelhiClimateTrain.csv')\n",
    "data['date'] = pd.to_datetime(data['date'])"
   ]
  },
  {
   "cell_type": "code",
   "execution_count": 5,
   "metadata": {},
   "outputs": [
    {
     "data": {
      "text/plain": [
       "  Summary of Regression Results   \n",
       "==================================\n",
       "Model:                         VAR\n",
       "Method:                        OLS\n",
       "Date:           Mon, 28, Nov, 2022\n",
       "Time:                     20:45:37\n",
       "--------------------------------------------------------------------\n",
       "No. of Equations:         4.00000    BIC:                    17.8062\n",
       "Nobs:                     1460.00    HQIC:                   17.7244\n",
       "Log likelihood:          -21153.9    FPE:                4.74797e+07\n",
       "AIC:                      17.6758    Det(Omega_mle):     4.63268e+07\n",
       "--------------------------------------------------------------------\n",
       "Results for equation meantemp\n",
       "==================================================================================\n",
       "                     coefficient       std. error           t-stat            prob\n",
       "----------------------------------------------------------------------------------\n",
       "const                  -0.513812         0.508413           -1.011           0.312\n",
       "L1.meantemp             0.858908         0.034791           24.688           0.000\n",
       "L1.humidity             0.009779         0.007393            1.323           0.186\n",
       "L1.wind_speed          -0.024648         0.011139           -2.213           0.027\n",
       "L1.meanpressure         0.000147         0.000238            0.617           0.537\n",
       "L2.meantemp             0.126744         0.034795            3.643           0.000\n",
       "L2.humidity            -0.004137         0.007251           -0.571           0.568\n",
       "L2.wind_speed           0.020973         0.010969            1.912           0.056\n",
       "L2.meanpressure         0.000412         0.000238            1.731           0.084\n",
       "==================================================================================\n",
       "\n",
       "Results for equation humidity\n",
       "==================================================================================\n",
       "                     coefficient       std. error           t-stat            prob\n",
       "----------------------------------------------------------------------------------\n",
       "const                  13.014493         2.457801            5.295           0.000\n",
       "L1.meantemp             0.770177         0.168187            4.579           0.000\n",
       "L1.humidity             0.938605         0.035738           26.263           0.000\n",
       "L1.wind_speed           0.078144         0.053847            1.451           0.147\n",
       "L1.meanpressure        -0.001095         0.001150           -0.953           0.341\n",
       "L2.meantemp            -0.876130         0.168209           -5.209           0.000\n",
       "L2.humidity            -0.066472         0.035053           -1.896           0.058\n",
       "L2.wind_speed           0.034176         0.053025            0.645           0.519\n",
       "L2.meanpressure        -0.002176         0.001150           -1.892           0.058\n",
       "==================================================================================\n",
       "\n",
       "Results for equation wind_speed\n",
       "==================================================================================\n",
       "                     coefficient       std. error           t-stat            prob\n",
       "----------------------------------------------------------------------------------\n",
       "const                   3.045139         1.241508            2.453           0.014\n",
       "L1.meantemp            -0.062254         0.084956           -0.733           0.464\n",
       "L1.humidity            -0.081434         0.018052           -4.511           0.000\n",
       "L1.wind_speed           0.340723         0.027200           12.527           0.000\n",
       "L1.meanpressure         0.000182         0.000581            0.314           0.754\n",
       "L2.meantemp             0.160664         0.084967            1.891           0.059\n",
       "L2.humidity             0.061122         0.017706            3.452           0.001\n",
       "L2.wind_speed           0.011743         0.026784            0.438           0.661\n",
       "L2.meanpressure        -0.000096         0.000581           -0.166           0.868\n",
       "==================================================================================\n",
       "\n",
       "Results for equation meanpressure\n",
       "==================================================================================\n",
       "                     coefficient       std. error           t-stat            prob\n",
       "----------------------------------------------------------------------------------\n",
       "const                1047.181915        56.110399           18.663           0.000\n",
       "L1.meantemp             0.075901         3.839636            0.020           0.984\n",
       "L1.humidity            -0.475915         0.815881           -0.583           0.560\n",
       "L1.wind_speed          -0.217316         1.229312           -0.177           0.860\n",
       "L1.meanpressure         0.001033         0.026251            0.039           0.969\n",
       "L2.meantemp            -1.385724         3.840135           -0.361           0.718\n",
       "L2.humidity             0.250513         0.800241            0.313           0.754\n",
       "L2.wind_speed           0.429034         1.210527            0.354           0.723\n",
       "L2.meanpressure         0.008444         0.026259            0.322           0.748\n",
       "==================================================================================\n",
       "\n",
       "Correlation matrix of residuals\n",
       "                meantemp  humidity  wind_speed  meanpressure\n",
       "meantemp        1.000000 -0.653661    0.055943     -0.004037\n",
       "humidity       -0.653661  1.000000   -0.237535     -0.005905\n",
       "wind_speed      0.055943 -0.237535    1.000000     -0.014706\n",
       "meanpressure   -0.004037 -0.005905   -0.014706      1.000000\n",
       "\n"
      ]
     },
     "execution_count": 5,
     "metadata": {},
     "output_type": "execute_result"
    }
   ],
   "source": [
    "model = VAR(data[['meantemp', 'humidity', 'wind_speed', 'meanpressure']])\n",
    "\n",
    "results = model.fit(2)\n",
    "\n",
    "results.summary()"
   ]
  },
  {
   "cell_type": "markdown",
   "metadata": {},
   "source": [
    "VAR(n) model is an important tool for assessing associativity between features, a.k.a \"$x_i$ contains information for predicting $y_j$\". Statmodels implements `t-stat`, but `F-test` is commonly used to hypothesis-testing the parameters.   \n",
    "\n"
   ]
  }
 ],
 "metadata": {
  "kernelspec": {
   "display_name": "Python 3.9.5 64-bit",
   "language": "python",
   "name": "python3"
  },
  "language_info": {
   "codemirror_mode": {
    "name": "ipython",
    "version": 3
   },
   "file_extension": ".py",
   "mimetype": "text/x-python",
   "name": "python",
   "nbconvert_exporter": "python",
   "pygments_lexer": "ipython3",
   "version": "3.9.5"
  },
  "orig_nbformat": 4,
  "vscode": {
   "interpreter": {
    "hash": "e7370f93d1d0cde622a1f8e1c04877d8463912d04d973331ad4851f04de6915a"
   }
  }
 },
 "nbformat": 4,
 "nbformat_minor": 2
}
