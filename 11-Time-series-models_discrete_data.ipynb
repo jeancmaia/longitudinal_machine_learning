{
 "cells": [
  {
   "cell_type": "markdown",
   "metadata": {},
   "source": [
    "Time Series Models for Discrete Data - MacDonald(1992)"
   ]
  }
 ],
 "metadata": {
  "kernelspec": {
   "display_name": "Python 3.9.5 ('pymc_venv': venv)",
   "language": "python",
   "name": "python3"
  },
  "language_info": {
   "name": "python",
   "version": "3.9.5"
  },
  "orig_nbformat": 4,
  "vscode": {
   "interpreter": {
    "hash": "921fd16563d161619055deb164c3883631b59f3bd39f3e13b0e188bd12dd898e"
   }
  }
 },
 "nbformat": 4,
 "nbformat_minor": 2
}
