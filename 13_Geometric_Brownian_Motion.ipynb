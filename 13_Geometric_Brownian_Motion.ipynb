{
 "cells": [
  {
   "cell_type": "markdown",
   "metadata": {},
   "source": [
    "https://www.tandfonline.com/doi/10.1080/01621459.2022.2102502    \n",
    "https://www.mdpi.com/1099-4300/22/12/1432  "
   ]
  }
 ],
 "metadata": {
  "kernelspec": {
   "display_name": "Python 3.9.5 ('venv': venv)",
   "language": "python",
   "name": "python3"
  },
  "language_info": {
   "name": "python",
   "version": "3.9.5"
  },
  "orig_nbformat": 4,
  "vscode": {
   "interpreter": {
    "hash": "08c0719674ff094177ff71caf104755cc919f8ecb4d7e92f9d6bcb4bedf87c7c"
   }
  }
 },
 "nbformat": 4,
 "nbformat_minor": 2
}
